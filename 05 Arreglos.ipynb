{
 "cells": [
  {
   "cell_type": "markdown",
   "id": "0ccd8aa3-da56-478a-ae49-3cf15faeafcd",
   "metadata": {},
   "source": [
    "# Arreglos o Colección\n",
    "\n",
    "Hasta el momento hemos trabajado con datos individuales, pero la realidad es que podemos agrupar datos de un tipo. Veamos una plantilla para declarar a un arreglo.\n",
    "\n",
    "```\n",
    " |\n",
    " |            vvvvvvvvvvvvv---- Items del arreglo\n",
    "1| numeros = [1, 2, 3, 4, 5]\n",
    " | ^^^^^^--- variable\n",
    " |\n",
    "```\n",
    "\n",
    "Imagina que cada elemento en el arreglo se ubica en una casilla dentro de esto.\n",
    "\n",
    "```\n",
    " |            0     2     4\n",
    " |            v     v     v\n",
    "1| numeros = [1, 2, 3, 4, 5]\n",
    " |               ^     ^\n",
    " |               1     3\n",
    "```\n",
    "\n",
    "Entonces, para acceder a un elemento, indicamos la posición del elemento entre paréntesis cuadrados.\n",
    "\n",
    "```\n",
    " |\n",
    "1| numeros = [1, 2, 3, 4, 5]\n",
    "2| numeros[posición]\n",
    " |\n",
    "```\n",
    "\n",
    "Veamos un ejemplo."
   ]
  },
  {
   "cell_type": "code",
   "execution_count": 4,
   "id": "d7d3ae7d-8ffb-4b72-b650-43a25c55d67b",
   "metadata": {},
   "outputs": [
    {
     "name": "stdout",
     "output_type": "stream",
     "text": [
      "1\n",
      "[1, 2, 3, 4, 5]\n"
     ]
    }
   ],
   "source": [
    "# Declaramos a un arreglo llamado \"numeros\"\n",
    "numeros = [1,2,3,4,5]\n",
    "# Imprimimos al elemento en la posicion 0,\n",
    "print(numeros[0])\n",
    "# Imprimimos a todo el arreglo.\n",
    "print(numeros)"
   ]
  },
  {
   "cell_type": "markdown",
   "id": "61f82f5f-edff-48a2-9551-f91873ab1120",
   "metadata": {},
   "source": [
    "También podemos modificar a un elemento dentro del arreglo."
   ]
  },
  {
   "cell_type": "code",
   "execution_count": 6,
   "id": "cee6d2fa-1db3-4a27-bb12-8db9ce99e5cd",
   "metadata": {},
   "outputs": [
    {
     "name": "stdout",
     "output_type": "stream",
     "text": [
      "[1, 2, 3, 4, 5]\n",
      "[1, 10, 3, 4, 5]\n"
     ]
    }
   ],
   "source": [
    "# Declaramos a un arrerglo llamada \"numeros\"\n",
    "numeros = [1,2,3,4,5]\n",
    "# Imprimirmos a todos los números\n",
    "print(numeros)\n",
    "# Asignamos el número 10, al item en la posición 1\n",
    "numeros[1] = 10\n",
    "# Imprimimos todos los números\n",
    "print(numeros)"
   ]
  },
  {
   "cell_type": "markdown",
   "id": "c9f1b838-6907-45ea-a093-989e57cbc512",
   "metadata": {},
   "source": [
    "Python nos proporciona formas predefinidas para interactuar con una arreglo, por ejemplo, podemos obtener el tamaño de un arreglo con la función `len`. En el siguiente ejemplo vamos a recorrer a los ítems dentro de un arreglo usando a un ciclo `while`."
   ]
  },
  {
   "cell_type": "code",
   "execution_count": 12,
   "id": "35badec0-1129-4efd-83b3-7f36243890b6",
   "metadata": {},
   "outputs": [
    {
     "name": "stdout",
     "output_type": "stream",
     "text": [
      "2\n",
      "4\n",
      "6\n",
      "8\n",
      "10\n"
     ]
    }
   ],
   "source": [
    "# Declaramos a un arreglo llamada \"números\"\n",
    "# Tiene un tamaño de 5\n",
    "# entonces len retornaria 4\n",
    "numeros=[1,2,3,4,5] \n",
    "i = 0\n",
    "# Esto es lo mismo a:\n",
    "# i < 5\n",
    "while(i < len(numeros)):\n",
    "    # Imprimimos a cada item dentro del arreglo y los multiplicamos por 2\n",
    "    print(numeros[i] * 2)\n",
    "    # Incrementamos a i en 1\n",
    "    i = i + 1"
   ]
  },
  {
   "cell_type": "markdown",
   "id": "1f1c49be-17f9-405c-9b15-107c965b146d",
   "metadata": {},
   "source": [
    "¿Recuerdas cuando estudiamos ciclos? Existe un ciclo para recorrer los ítems dentro de un arreglo de forma un poco más concisa. El ciclo `for` nos permite declarar una variable que tomará el valor de cada ítem en el arreglo por iteración y sin la necesidad de incrementar a una variable contadora o acumuladora."
   ]
  },
  {
   "cell_type": "code",
   "execution_count": 14,
   "id": "50a91621-1566-4d08-b7a0-4e0de97aab59",
   "metadata": {},
   "outputs": [
    {
     "name": "stdout",
     "output_type": "stream",
     "text": [
      "2\n",
      "4\n",
      "6\n",
      "8\n",
      "10\n"
     ]
    }
   ],
   "source": [
    "# Declaramos a un arreglo llamado \"numeros\"\n",
    "numeros = [1,2,3,4,5]\n",
    "# Imprimimos a la lista de números\n",
    "print(numeros)\n",
    "# Con el cilo for \"i\" tomara el valor de cada item en \"numeros\"\n",
    "for i in numeros:\n",
    "    # Imprimimos a i y lo multiplicamos por 2.\n",
    "    print(i * 2)"
   ]
  },
  {
   "cell_type": "markdown",
   "id": "3f9133a4-147b-4ec1-95f7-9feb6cb73df6",
   "metadata": {},
   "source": [
    "Hasta el momento, hemos declarado al arreglo con los ítems ya insertados, Python nos proporciona funciones ya predefinidas (como `print` e `input`) para interactuar con arreglos. En este caso `append` nos permite agregar a un ítem dentro del arreglo."
   ]
  },
  {
   "cell_type": "code",
   "execution_count": 23,
   "id": "39c08fde-fdee-46df-abff-7c481e8c59f5",
   "metadata": {},
   "outputs": [
    {
     "name": "stdout",
     "output_type": "stream",
     "text": [
      "[1, 2]\n"
     ]
    }
   ],
   "source": [
    "# Declaramos a un arreglo \"vacio\" o sea que no tiene ningún ítem\n",
    "numeros = []\n",
    "# Le agregamos al arreglo \"numeros\" el número 1\n",
    "numeros.append(1)\n",
    "# Le agregamos al arreglo \"numeros\" el número 2\n",
    "numeros.append(2)\n",
    "# Imprimos a la lista de números\n",
    "print(numeros)"
   ]
  },
  {
   "cell_type": "code",
   "execution_count": null,
   "id": "34ea9182-eb14-4e93-9de0-8685a6dd9c3b",
   "metadata": {},
   "outputs": [],
   "source": [
    "Veamos ahora como armar un arreglo de forma un poco más dinamica."
   ]
  },
  {
   "cell_type": "code",
   "execution_count": 20,
   "id": "24df00d8-52ce-408e-840f-358a349f39de",
   "metadata": {},
   "outputs": [
    {
     "name": "stdin",
     "output_type": "stream",
     "text": [
      "Cuantos números quieres guardar?:  3\n",
      "Ingresa un número:  1\n",
      "Ingresa un número:  2\n",
      "Ingresa un número:  3\n"
     ]
    },
    {
     "name": "stdout",
     "output_type": "stream",
     "text": [
      "[1, 2, 3]\n"
     ]
    }
   ],
   "source": [
    "# Declaramos a un arreglo vacio\n",
    "numeros = []\n",
    "# Le pedimos al usuario que nos indique cuantos números quiere guardar\n",
    "size = int(input(\"Cuantos números quieres guardar?: \"))\n",
    "# Declaramos un ciclo while\n",
    "i = 0\n",
    "while i < size:\n",
    "    # En cada iteración guardamos un número\n",
    "    numero = int(input(\"Ingresa un número: \"))\n",
    "    # Agregamos al ítem a la lista de números\n",
    "    numeros.append(numero)\n",
    "    # Incrementamos a i\n",
    "    i = i + 1\n",
    "# Impririmos a todos los números\n",
    "print(numeros)"
   ]
  },
  {
   "cell_type": "markdown",
   "id": "cba091e9-6b92-4049-b98d-15dbca496d61",
   "metadata": {},
   "source": [
    "También podemos remover ítems de un arreglo, esto lo realizamos con `pop`. `pop` es una función que recibe la posición que deseamos remover del arreglo."
   ]
  },
  {
   "cell_type": "code",
   "execution_count": 21,
   "id": "68ab519f-e154-46ba-b150-859ea3498991",
   "metadata": {},
   "outputs": [
    {
     "name": "stdout",
     "output_type": "stream",
     "text": [
      "[1, 2, 4, 5, 6]\n",
      "[2, 4, 5, 6]\n"
     ]
    }
   ],
   "source": [
    "# Declaramos una lista de números\n",
    "numeros = [1,2,4,5,6]\n",
    "# Imprimimos la lista de números antes de remover a un ítem\n",
    "print(numeros)\n",
    "# Remoovemos a un ítem, en este caso al que se ubica en la posición 0\n",
    "numeros.pop(0)\n",
    "# Imprimos al error despues de haber removido al ítem.\n",
    "print(numeros)"
   ]
  },
  {
   "cell_type": "markdown",
   "id": "a552a67f-56d7-4db5-9b43-5ffe618e0445",
   "metadata": {},
   "source": [
    "En estos ejemplos he trabajado con arreglos con números o `integer`, r"
   ]
  }
 ],
 "metadata": {
  "kernelspec": {
   "display_name": "Python 3 (ipykernel)",
   "language": "python",
   "name": "python3"
  },
  "language_info": {
   "codemirror_mode": {
    "name": "ipython",
    "version": 3
   },
   "file_extension": ".py",
   "mimetype": "text/x-python",
   "name": "python",
   "nbconvert_exporter": "python",
   "pygments_lexer": "ipython3",
   "version": "3.11.8"
  }
 },
 "nbformat": 4,
 "nbformat_minor": 5
}
