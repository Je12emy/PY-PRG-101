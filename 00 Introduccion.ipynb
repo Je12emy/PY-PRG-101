{
 "cells": [
  {
   "cell_type": "markdown",
   "id": "4f0ddafe-bb98-4e45-8d9a-bee7f3c7653d",
   "metadata": {},
   "source": [
    "# ¿Que es Programar?\n",
    "\n",
    "Antes de empezar con Python, deberíamos definir que es la programación, podemos resumir el arte de la programación de la siguiente manera.\n",
    "\n",
    "> La programación es el proceso de crear un conjunto de instrucciones que le dicen a una computadora como realizar algún tipo de tarea. \n",
    "\n",
    "<div class=\"alert alert-block alert-info\">\n",
    "    Ver fuente para más información: https://en.wikipedia.org/wiki/Computer_programming.\n",
    "</div>\n",
    "\n",
    "Este conjunto de instrucciones lleva una secuencia lógica, cuando termina una orden, la computadora continua con la siguiente hasta terminar con la ejecución de nuestro código.\n",
    "\n",
    "Significa que si nuestro programa debería de producir el mismo resultado siempre que le otorguemos los mismos datos.\n"
   ]
  },
  {
   "cell_type": "markdown",
   "id": "8030f0dd-e1f3-4ad9-9e92-6b2dfb3dda66",
   "metadata": {},
   "source": [
    "# Python\n",
    "\n",
    "Python es:\n",
    "\n",
    "- Un lenguaje de alto nivel.\n",
    "- Un lenguaje interpretado.\n",
    "- Un lenguaje débilmente tipado.\n",
    "- Un lenguaje multiplataforma.\n",
    "\n",
    "Por el momento no exploraremos cada uno de estos puntos, pero si fuéramos a comparar Python con otros lenguajes, podríamos decir que es un lenguaje poco estricto o menos rígido.\n",
    "\n",
    "# Instalando Python\n",
    "\n",
    "Python puede ser instalado como cualquier otro programa en tu sistema operativo.\n",
    "\n",
    "- Puedes ver las instrucciones para instalar Python acá: https://www.python.org/downloads/release/python-3121/"
   ]
  },
  {
   "cell_type": "markdown",
   "id": "816022f1-de30-4af6-a998-5b367bc9eb03",
   "metadata": {},
   "source": [
    "# ¡Hola Mundo!\n",
    "\n",
    "Un programa \"Hola Mundo\" es una tradición que realizamos cuando aprendemos un lenguaje de programación. Es usado comúnmente para evaluar si nuestro ambiente de desarrollo está funcionando correctamente.\n",
    "\n",
    "Los programas en Python tienen una extensión `.py`, puede que nos suelas pensar en la extensión de tus archivos, pero esto es un concepto con el que sueles lidiar a diario. Por ejemplo, cuando creas un archivo en Microsoft Word, estás creando un archivo con extensión `.docx`. Esto le permite a tu sistema operativo identificar con que programa debería de abrir dicho archivo, por ejemplo: `.pdf` con Adobe Acrobat o `.mp4` con tu reproductor de música.\n",
    "\n",
    "Crea una carpeta para guardar todo tu código y crea al archivo `hola_mundo.py`. Finalmente, ingresa el siguiente contenido.\n"
   ]
  },
  {
   "cell_type": "code",
   "execution_count": 2,
   "id": "9c2b81f0-6c7c-42e3-a9cf-897c0faf3722",
   "metadata": {},
   "outputs": [
    {
     "name": "stdout",
     "output_type": "stream",
     "text": [
      "Hola Mundo\n"
     ]
    }
   ],
   "source": [
    "print(\"Hola Mundo\")"
   ]
  },
  {
   "attachments": {},
   "cell_type": "markdown",
   "id": "a34466f7-1fdf-47d2-b215-9c9b1714d955",
   "metadata": {},
   "source": [
    "Acá estamos declarando una simple instrucción para Python, imprimir el mensaje \"Hola Mundo\" por la consola."
   ]
  }
 ],
 "metadata": {
  "kernelspec": {
   "display_name": "Python 3 (ipykernel)",
   "language": "python",
   "name": "python3"
  },
  "language_info": {
   "codemirror_mode": {
    "name": "ipython",
    "version": 3
   },
   "file_extension": ".py",
   "mimetype": "text/x-python",
   "name": "python",
   "nbconvert_exporter": "python",
   "pygments_lexer": "ipython3",
   "version": "3.11.7"
  }
 },
 "nbformat": 4,
 "nbformat_minor": 5
}
