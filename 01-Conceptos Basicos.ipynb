{
 "cells": [
  {
   "cell_type": "markdown",
   "id": "ce51ba49-43fe-4ee7-aef0-74dc605e0c33",
   "metadata": {},
   "source": [
    "# Variables\n",
    "\n",
    "> Una variable nos permite almacenar un dato en nuestro programa.\n",
    "\n",
    "¿Recuerdas nuestro programa `hola_mundo.py`? Introduzcamos una variable."
   ]
  },
  {
   "cell_type": "code",
   "execution_count": 1,
   "id": "5e5fc31d-a9f6-4284-a293-c8e7b582c4be",
   "metadata": {},
   "outputs": [
    {
     "name": "stdout",
     "output_type": "stream",
     "text": [
      "Hola Mundo\n"
     ]
    }
   ],
   "source": [
    "saludo = \"Hola Mundo\"\n",
    "print(saludo)"
   ]
  },
  {
   "cell_type": "markdown",
   "id": "3a0c8738-939a-4ac1-9c12-5db63ac8f862",
   "metadata": {},
   "source": [
    "Imagina que una variable es una caja que puede guardar algún tipo de dato.\n",
    "\n",
    "![Iustración de una variable](https://mozilla.github.io/webmaker-curriculum/QuackingJavascript/images/boxes_variables_arrow.png)\n",
    "\n",
    "Acá, hemos guardado el mensaje \"Hola Mundo\" en la variable `saludo`, si seguimos la analogía de una caja, si abrimos la caja \"saludo\", encontraremos el mensaje \"Hola Mundo\". Entonces, si imprimimos el valor de saludo, obtendremos el mensaje \"Hola Mundo\"."
   ]
  },
  {
   "cell_type": "markdown",
   "id": "95c44be6-bc1d-4a3f-b4cf-c251e36b0f5d",
   "metadata": {},
   "source": [
    "# Reglas para Nombrar una Variable\n",
    "\n",
    "Puede que te preguntes si siempre debes usar el nombre \"saludo\" para declarar una variable, el nombre de la variable es un simple identificador que nosotros hemos escogido. Puedes usar el nombre que desees, pero lo recomendado es que uses un nombre significativo para que se haga más fácil recordarla.\n",
    "\n",
    "Exploremos la forma en la cual creamos una variable.\n",
    "\n",
    "![Diagrama de asignación de una variable](https://www.datamentor.io/sites/tutorial2program/files/assign-value-to-variable.png)\n",
    "\n",
    "Si fuéramos a crear una plantilla de como crear una variable, sería la siguiente:\n",
    "\n",
    "```\n",
    "<nombre> = <valor>\n",
    "```\n",
    "\n",
    "Acá, reemplaza todo el contenido identificado con paréntesis angulares (`<>`). Caben a destacar unas cuantas reglas básicas.\n",
    "\n",
    "- El nombre de una variable debe comenzar con una letra o un carácter de subrayado.\n",
    "- El nombre de una variable no puede comenzar con un número\n",
    "- El nombre de una variable solo puede contener caracteres alfanuméricos y guiones bajos (A-z, 0-9 y _).\n",
    "- Los nombres de las variables distinguen entre mayúsculas y minúsculas (edad, Edad y EDAD son tres variables diferentes)\n",
    "- Un nombre de variable no puede ser ninguna de las palabras clave de Python.\n",
    "\n",
    "*No te preocupes por el último punto aún.\n",
    "\n",
    "Veamos unos cuantos ejemplos."
   ]
  },
  {
   "cell_type": "markdown",
   "id": "cb3fb02f-bf1c-4895-8a9e-c2fdf531d670",
   "metadata": {},
   "source": [
    "nombre = \"Joseph Joestar\"\n",
    "_edad = 18\n",
    "lugar_de_nacimiento = \"Inglaterra\"\n",
    "nacionalidad1 = \"Ingles\"\n",
    "nacionalidad2 = \"Estadounidense\"\n",
    "\n",
    "print(nombre)\n",
    "print(_edad)\n",
    "print(nacionalidad1)\n",
    "print(nacionalidad2)"
   ]
  },
  {
   "cell_type": "markdown",
   "id": "a2f6dbf9-7a38-463e-a701-959c154970c7",
   "metadata": {},
   "source": [
    "# Tipos de Variables\n",
    "\n",
    "¿Notaste el valor de la variable `_edad`? Envés de utilizar un mensaje de **texto**, le he asignado un valor de tipo numérico de 18. Existen varios tipos de variables, exploremos los más básicos.\n",
    "\n",
    "- `string`: Usado para declarar cadenas de texto, por ejemplo: \"Hola\".\n",
    "- `int`: Usado para declarar números enteros, por ejemplo: 42.\n",
    "- `float`: Usado para declarar números decimales, por ejemplo: 3.14.\n",
    "- `bool`: Usado para declarar si algo es verdadero o falso.\n",
    "\n",
    "Veamos ahora como declarar a cada uno en un ejemplo. Expandamos un poco el ejemplo anterior."
   ]
  },
  {
   "cell_type": "code",
   "execution_count": 1,
   "id": "62d27142-96fd-43e6-9c15-8f1494987261",
   "metadata": {},
   "outputs": [
    {
     "name": "stdout",
     "output_type": "stream",
     "text": [
      "Joseph Joestar\n",
      "18\n",
      "1.95\n",
      "False\n"
     ]
    }
   ],
   "source": [
    "nombre = \"Joseph Joestar\"\n",
    "edad = 18\n",
    "altura = 1.95\n",
    "esta_casado = False\n",
    "\n",
    "print(nombre)\n",
    "print(edad)\n",
    "print(altura)\n",
    "print(esta_casado)"
   ]
  },
  {
   "cell_type": "markdown",
   "id": "b6ba2747-1316-4a08-8b9b-ded487f4ed78",
   "metadata": {},
   "source": [
    "# Operadores\n",
    "\n",
    "Ya hemos aprendido a declarar variables, ahora realicemos cálculos con ellas. Esto lo podemos realizar con un conjunto de operadores. Podemos categorizarlos de la siguiente manera.\n",
    "\n",
    "## Operadores Aritméticos\n",
    "\n",
    "Estas son todas las operaciones matemáticas básicas que se te pueden venir a la mente.\n",
    "\n",
    "- `+` para sumar.\n",
    "- `-` para restar.\n",
    "- `*` para multiplicar.\n",
    "- `/` para dividir.\n",
    "\n",
    "Veamos un pequeño ejemplo."
   ]
  },
  {
   "cell_type": "code",
   "execution_count": 2,
   "id": "f6aca077-1753-4420-86ce-01bb73a7205a",
   "metadata": {},
   "outputs": [
    {
     "name": "stdout",
     "output_type": "stream",
     "text": [
      "110\n",
      "-90\n",
      "1000\n",
      "10.0\n"
     ]
    }
   ],
   "source": [
    "a = 100\n",
    "b = 10\n",
    "\n",
    "suma = a + b\n",
    "resta = b - a\n",
    "multiplicacion = a * b\n",
    "division = a / b\n",
    "\n",
    "print(suma)\n",
    "print(resta)\n",
    "print(multiplicacion)\n",
    "print(division)"
   ]
  },
  {
   "cell_type": "markdown",
   "id": "aa8a318f-609c-490f-9a93-eda377e3a3e2",
   "metadata": {},
   "source": [
    "# Operadores de Comparación\n",
    "\n"
   ]
  }
 ],
 "metadata": {
  "kernelspec": {
   "display_name": "Python 3 (ipykernel)",
   "language": "python",
   "name": "python3"
  },
  "language_info": {
   "codemirror_mode": {
    "name": "ipython",
    "version": 3
   },
   "file_extension": ".py",
   "mimetype": "text/x-python",
   "name": "python",
   "nbconvert_exporter": "python",
   "pygments_lexer": "ipython3",
   "version": "3.11.7"
  }
 },
 "nbformat": 4,
 "nbformat_minor": 5
}
