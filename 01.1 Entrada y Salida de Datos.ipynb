{
 "cells": [
  {
   "cell_type": "markdown",
   "id": "a5044b49-b7b7-4076-9f6b-9cd8fed2ca73",
   "metadata": {},
   "source": [
    "# ¿Qué es `print`?\n",
    "\n",
    "En la lección anterior habrás notado que hemos usado `print` para imprimir las variables que hemos declarado. `print` nos permite imprimir un mensaje de **texto** por la consola. Toma en cuenta que he resaltado la palabra texto."
   ]
  },
  {
   "cell_type": "code",
   "execution_count": 4,
   "id": "44bc4500-d64f-4702-9198-fff90dec45a4",
   "metadata": {},
   "outputs": [
    {
     "name": "stdout",
     "output_type": "stream",
     "text": [
      "Hola Mundo\n",
      "Ryan\n"
     ]
    }
   ],
   "source": [
    "# Imprimir la cadena de texto \"Hola\"\n",
    "print(\"Hola\")\n",
    "# Imprimir el valor de la variable nombre\n",
    "nombre = \"Ryan\"\n",
    "print(nombre)"
   ]
  },
  {
   "cell_type": "markdown",
   "id": "9a0bc3f8-3d81-4313-b608-5e48bf56e8cc",
   "metadata": {},
   "source": [
    "Podemos concatenar o unir cadenas de texto con el operador aritmético de sumatoria."
   ]
  },
  {
   "cell_type": "code",
   "execution_count": 5,
   "id": "bb07f6de-9f2e-4d1a-a9df-99ad4930704b",
   "metadata": {},
   "outputs": [
    {
     "name": "stdout",
     "output_type": "stream",
     "text": [
      "Hola Ryan\n"
     ]
    }
   ],
   "source": [
    "nomre = \"Ryan\"\n",
    "print(\"Hola \" + nombre)"
   ]
  },
  {
   "cell_type": "markdown",
   "id": "412543b8-5cd7-42bc-919c-4682c420c8ec",
   "metadata": {},
   "source": [
    "Python en esencia está \"sumando\" el contenido de cada cadena de texto, pero, ¿qué pasa si queremos imprimir algún valor que no sea texto? El siguiente bloque de código causará un error."
   ]
  },
  {
   "cell_type": "code",
   "execution_count": 6,
   "id": "94ce5af1-2cf9-4384-897e-44ccedfe4f44",
   "metadata": {},
   "outputs": [
    {
     "ename": "TypeError",
     "evalue": "can only concatenate str (not \"int\") to str",
     "output_type": "error",
     "traceback": [
      "\u001b[0;31m---------------------------------------------------------------------------\u001b[0m",
      "\u001b[0;31mTypeError\u001b[0m                                 Traceback (most recent call last)",
      "Cell \u001b[0;32mIn[6], line 2\u001b[0m\n\u001b[1;32m      1\u001b[0m edad \u001b[38;5;241m=\u001b[39m \u001b[38;5;241m25\u001b[39m\n\u001b[0;32m----> 2\u001b[0m \u001b[38;5;28mprint\u001b[39m(\u001b[38;5;124;43m\"\u001b[39;49m\u001b[38;5;124;43mTengo \u001b[39;49m\u001b[38;5;124;43m\"\u001b[39;49m\u001b[43m \u001b[49m\u001b[38;5;241;43m+\u001b[39;49m\u001b[43m \u001b[49m\u001b[43medad\u001b[49m \u001b[38;5;241m+\u001b[39m \u001b[38;5;124m\"\u001b[39m\u001b[38;5;124m años\u001b[39m\u001b[38;5;124m\"\u001b[39m)\n",
      "\u001b[0;31mTypeError\u001b[0m: can only concatenate str (not \"int\") to str"
     ]
    }
   ],
   "source": [
    "edad = 25\n",
    "# Python no puede sumar tipos de datos que no sean del mismo tipo\n",
    "print(\"Tengo \" + edad + \" años\")"
   ]
  },
  {
   "cell_type": "markdown",
   "id": "f2c8485c-0508-4e37-be6b-31b885f04106",
   "metadata": {},
   "source": [
    "Entonces, tenemos que convertir a la variable \"edad\" a `string`. Esto ya lo habíamos mencionado en la clase pasada."
   ]
  },
  {
   "cell_type": "code",
   "execution_count": 8,
   "id": "9b11e195-a0eb-4f35-afe9-59093414039a",
   "metadata": {},
   "outputs": [
    {
     "name": "stdout",
     "output_type": "stream",
     "text": [
      "Tengo 25 años\n"
     ]
    }
   ],
   "source": [
    "edad = 25\n",
    "print(\"Tengo \" + str(edad) + \" años\")"
   ]
  },
  {
   "cell_type": "markdown",
   "id": "a085dd5c-f72f-461c-9b27-979dcc5f682f",
   "metadata": {},
   "source": [
    "# Recibir Datos del Usuario\n",
    "\n",
    "Muy bien, ya sabemos como mostrarle al usuario un mensaje, pero, ¿y si queremos que el usuario ingrese algún dato? Para esto podemos usar `input`. `input` nos permite recibir una cadena de **texto** que ingresa el usuario.\n",
    "\n",
    "```\n",
    "|        \n",
    "| print(\"Ingresa tu nombre: \")\n",
    "|        ^^^^^^^^^^^^^^^^^^^ mensaje de texto mostrado al usuario, es opcional pero recomendado\n",
    "```"
   ]
  },
  {
   "cell_type": "code",
   "execution_count": 10,
   "id": "dde42f03-1ff1-4c33-b854-a2737a563c1f",
   "metadata": {},
   "outputs": [
    {
     "name": "stdin",
     "output_type": "stream",
     "text": [
      "Ingresa tu nombre Jeremy\n"
     ]
    },
    {
     "data": {
      "text/plain": [
       "'Jeremy'"
      ]
     },
     "execution_count": 10,
     "metadata": {},
     "output_type": "execute_result"
    }
   ],
   "source": [
    "input(\"Ingresa tu nombre\")"
   ]
  },
  {
   "cell_type": "markdown",
   "id": "a8bb15fb-7248-4d00-ab8c-1a11d756888c",
   "metadata": {},
   "source": [
    "`input` nos retornara el valor que haya ingresado el usuario, esto podemos guardarlo en una variable."
   ]
  },
  {
   "cell_type": "code",
   "execution_count": 11,
   "id": "908fa518-4cfa-48c2-af01-15de475ab355",
   "metadata": {},
   "outputs": [
    {
     "name": "stdin",
     "output_type": "stream",
     "text": [
      "Ingresa tu nombre Jeremy\n"
     ]
    },
    {
     "name": "stdout",
     "output_type": "stream",
     "text": [
      "Hola Jeremy\n"
     ]
    }
   ],
   "source": [
    "nombre = input(\"Ingresa tu nombre\")\n",
    "print(\"Hola \" + nombre)"
   ]
  },
  {
   "cell_type": "markdown",
   "id": "179e8c68-7e47-416c-a0fb-6c72d3ee105f",
   "metadata": {},
   "source": [
    "De nuevo, tenemos que tener cuidado con el tipo de dato que ingresa el usuario, si queremos manipular el valor que ingresa como un número, entonces debemos convertirlo."
   ]
  },
  {
   "cell_type": "code",
   "execution_count": 16,
   "id": "e09727c2-3556-41fb-92d3-8950ea027c33",
   "metadata": {},
   "outputs": [
    {
     "name": "stdin",
     "output_type": "stream",
     "text": [
      "Ingresa tu edad:  25\n"
     ]
    },
    {
     "name": "stdout",
     "output_type": "stream",
     "text": [
      "Eeres mayor de edad.\n"
     ]
    }
   ],
   "source": [
    "edad = input(\"Ingresa tu edad: \")\n",
    "# Convertimos la cadena de texto guardado en \"edad\" a int en el condicional\n",
    "if int(edad) > 17:\n",
    "    print(\"Eres mayor de edad.\")\n",
    "else:\n",
    "    print(\"Eres menor de edad.\")"
   ]
  },
  {
   "cell_type": "markdown",
   "id": "71ce4227-4394-4105-94f2-c7f52ec87f85",
   "metadata": {},
   "source": [
    "Puede realizar la conversión al momento de capturar el dato ingresado por el usuario si así lo deseas."
   ]
  },
  {
   "cell_type": "code",
   "execution_count": 17,
   "id": "a24d680c-3e5a-4bc5-83fa-136edb58399a",
   "metadata": {},
   "outputs": [
    {
     "name": "stdin",
     "output_type": "stream",
     "text": [
      "Ingresa tu edad:  24\n"
     ]
    },
    {
     "name": "stdout",
     "output_type": "stream",
     "text": [
      "Eres mayor de edad.\n"
     ]
    }
   ],
   "source": [
    "# Convertimos la cadena de texto de inmediato a int\n",
    "edad = int(input(\"Ingresa tu edad: \"))\n",
    "if edad > 17:\n",
    "    print(\"Eres mayor de edad.\")\n",
    "else:\n",
    "    print(\"Eres menor de edad.\")"
   ]
  }
 ],
 "metadata": {
  "kernelspec": {
   "display_name": "Python 3 (ipykernel)",
   "language": "python",
   "name": "python3"
  },
  "language_info": {
   "codemirror_mode": {
    "name": "ipython",
    "version": 3
   },
   "file_extension": ".py",
   "mimetype": "text/x-python",
   "name": "python",
   "nbconvert_exporter": "python",
   "pygments_lexer": "ipython3",
   "version": "3.11.8"
  }
 },
 "nbformat": 4,
 "nbformat_minor": 5
}
