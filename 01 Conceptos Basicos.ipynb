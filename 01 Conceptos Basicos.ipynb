{
 "cells": [
  {
   "cell_type": "markdown",
   "id": "ce51ba49-43fe-4ee7-aef0-74dc605e0c33",
   "metadata": {},
   "source": [
    "# Variables\n",
    "\n",
    "> Una variable nos permite almacenar un dato en nuestro programa.\n",
    "\n",
    "¿Recuerdas nuestro programa `hola_mundo.py`? Introduzcamos una variable."
   ]
  },
  {
   "cell_type": "code",
   "execution_count": 1,
   "id": "5e5fc31d-a9f6-4284-a293-c8e7b582c4be",
   "metadata": {},
   "outputs": [
    {
     "name": "stdout",
     "output_type": "stream",
     "text": [
      "The history saving thread hit an unexpected error (OperationalError('attempt to write a readonly database')).History will not be written to the database.\n",
      "Hola Mundo\n"
     ]
    }
   ],
   "source": [
    "saludo = \"Hola Mundo\"\n",
    "print(saludo)"
   ]
  },
  {
   "cell_type": "markdown",
   "id": "3a0c8738-939a-4ac1-9c12-5db63ac8f862",
   "metadata": {},
   "source": [
    "Imagina que una variable es una caja que puede guardar algún tipo de dato.\n",
    "\n",
    "![Iustración de una variable](https://mozilla.github.io/webmaker-curriculum/QuackingJavascript/images/boxes_variables_arrow.png)\n",
    "\n",
    "Acá, hemos guardado el mensaje \"Hola Mundo\" en la variable `saludo`, si seguimos la analogía de una caja, si abrimos la caja \"saludo\", encontraremos el mensaje \"Hola Mundo\". Entonces, si imprimimos el valor de saludo, obtendremos el mensaje \"Hola Mundo\"."
   ]
  },
  {
   "cell_type": "markdown",
   "id": "95c44be6-bc1d-4a3f-b4cf-c251e36b0f5d",
   "metadata": {},
   "source": [
    "# Reglas para Nombrar una Variable\n",
    "\n",
    "Puede que te preguntes si siempre debes usar el nombre \"saludo\" para declarar una variable, el nombre de la variable es un simple identificador que nosotros hemos escogido. Puedes usar el nombre que desees, pero lo recomendado es que uses un nombre significativo para que se haga más fácil recordarla.\n",
    "\n",
    "Exploremos la forma en la cual creamos una variable.\n",
    "\n",
    "![Diagrama de asignación de una variable](https://www.datamentor.io/sites/tutorial2program/files/assign-value-to-variable.png)\n",
    "\n",
    "Si fuéramos a crear una plantilla de como crear una variable, sería la siguiente:\n",
    "\n",
    "```\n",
    "<nombre> = <valor>\n",
    "```\n",
    "\n",
    "Acá, reemplaza todo el contenido identificado con paréntesis angulares (`<>`). Caben a destacar unas cuantas reglas básicas.\n",
    "\n",
    "- El nombre de una variable debe comenzar con una letra o un carácter de subrayado.\n",
    "- El nombre de una variable no puede comenzar con un número\n",
    "- El nombre de una variable solo puede contener caracteres alfanuméricos y guiones bajos (A-z, 0-9 y _).\n",
    "- Los nombres de las variables distinguen entre mayúsculas y minúsculas (edad, Edad y EDAD son tres variables diferentes)\n",
    "- Un nombre de variable no puede ser ninguna de las palabras clave de Python.\n",
    "\n",
    "*No te preocupes por el último punto aún.\n",
    "\n",
    "Veamos unos cuantos ejemplos."
   ]
  },
  {
   "cell_type": "code",
   "execution_count": 4,
   "id": "d2e52c77-9aa2-4de6-afe1-4d3098a625df",
   "metadata": {},
   "outputs": [
    {
     "name": "stdout",
     "output_type": "stream",
     "text": [
      "Joseph Joestar\n",
      "18\n",
      "Ingles\n",
      "Estadounidense\n"
     ]
    }
   ],
   "source": [
    "nombre = \"Joseph Joestar\"\n",
    "_edad = 18\n",
    "lugar_de_nacimiento = \"Inglaterra\"\n",
    "nacionalidad1 = \"Ingles\"\n",
    "nacionalidad2 = \"Estadounidense\"\n",
    "\n",
    "print(nombre)\n",
    "print(_edad)\n",
    "print(nacionalidad1)\n",
    "print(nacionalidad2)"
   ]
  },
  {
   "cell_type": "markdown",
   "id": "a2f6dbf9-7a38-463e-a701-959c154970c7",
   "metadata": {},
   "source": [
    "# Tipos de Variables\n",
    "\n",
    "¿Notaste el valor de la variable `_edad`? Envés de utilizar un mensaje de **texto**, le he asignado un valor de tipo numérico de 18. Existen varios tipos de variables, exploremos los más básicos.\n",
    "\n",
    "- `string`: Usado para declarar cadenas de texto, por ejemplo: \"Hola\".\n",
    "- `int`: Usado para declarar números enteros, por ejemplo: 42.\n",
    "- `float`: Usado para declarar números decimales, por ejemplo: 3.14.\n",
    "- `bool`: Usado para declarar si algo es verdadero o falso.\n",
    "\n",
    "Veamos ahora como declarar a cada uno en un ejemplo. Expandamos un poco el ejemplo anterior."
   ]
  },
  {
   "cell_type": "code",
   "execution_count": 1,
   "id": "62d27142-96fd-43e6-9c15-8f1494987261",
   "metadata": {},
   "outputs": [
    {
     "name": "stdout",
     "output_type": "stream",
     "text": [
      "Joseph Joestar\n",
      "18\n",
      "1.95\n",
      "False\n"
     ]
    }
   ],
   "source": [
    "nombre = \"Joseph Joestar\"\n",
    "edad = 18\n",
    "altura = 1.95\n",
    "esta_casado = False\n",
    "\n",
    "print(nombre)\n",
    "print(edad)\n",
    "print(altura)\n",
    "print(esta_casado)"
   ]
  },
  {
   "cell_type": "markdown",
   "id": "53e9c492-9dc8-4a49-981f-a95fa3a1d6f6",
   "metadata": {},
   "source": [
    "# Convertir Variables\n",
    "\n",
    "Es posible que quieras convertir una variable de un tipo a otro, por ejemplo, de texto a número."
   ]
  },
  {
   "cell_type": "code",
   "execution_count": 16,
   "id": "a7c8cbdd-cb30-4d1a-b337-c03f37638749",
   "metadata": {},
   "outputs": [
    {
     "name": "stdout",
     "output_type": "stream",
     "text": [
      "1\n",
      "3\n",
      "2.0\n",
      "True\n"
     ]
    }
   ],
   "source": [
    "# La variable \"texto\" contiene la cadena de texto \"1\". Esto lo podemos convertir a su equivalente en número\n",
    "texto = \"1\"\n",
    "# Conversión de string a int\n",
    "numero = int(texto)\n",
    "print(numero)\n",
    "\n",
    "# Conversión de float a int\n",
    "decimal = 3.14\n",
    "numero = int(decimal)\n",
    "print(numero)\n",
    "\n",
    "# Conversión de int a float\n",
    "numero = 2\n",
    "decimal = float(numero)\n",
    "print(decimal)\n",
    "\n",
    "# Conversión de string a bool\n",
    "texto = \"True\"\n",
    "booleano = bool(texto)\n",
    "print(booleano)"
   ]
  },
  {
   "cell_type": "markdown",
   "id": "f928b398-5f90-4602-a600-6d2943168650",
   "metadata": {},
   "source": [
    "Cabe a destacar que en el caso de convertir `float` a `int` se pierden los puntos decimales, ten cuidado al realizar este tipo de operaciones."
   ]
  },
  {
   "cell_type": "markdown",
   "id": "b6ba2747-1316-4a08-8b9b-ded487f4ed78",
   "metadata": {},
   "source": [
    "# Operadores\n",
    "\n",
    "Ya hemos aprendido a declarar variables, ahora realicemos cálculos con ellas. Esto lo podemos realizar con un conjunto de operadores. Podemos categorizarlos de la siguiente manera.\n",
    "\n",
    "## Operadores Aritméticos\n",
    "\n",
    "Estas son todas las operaciones matemáticas básicas que se te pueden venir a la mente.\n",
    "\n",
    "- `+` para sumar.\n",
    "- `-` para restar.\n",
    "- `*` para multiplicar.\n",
    "- `/` para dividir.\n",
    "\n",
    "Veamos un pequeño ejemplo."
   ]
  },
  {
   "cell_type": "code",
   "execution_count": 2,
   "id": "f6aca077-1753-4420-86ce-01bb73a7205a",
   "metadata": {},
   "outputs": [
    {
     "name": "stdout",
     "output_type": "stream",
     "text": [
      "110\n",
      "-90\n",
      "1000\n",
      "10.0\n"
     ]
    }
   ],
   "source": [
    "a = 100\n",
    "b = 10\n",
    "\n",
    "suma = a + b\n",
    "resta = b - a\n",
    "multiplicacion = a * b\n",
    "division = a / b\n",
    "\n",
    "print(suma)\n",
    "print(resta)\n",
    "print(multiplicacion)\n",
    "print(division)"
   ]
  },
  {
   "cell_type": "markdown",
   "id": "aa8a318f-609c-490f-9a93-eda377e3a3e2",
   "metadata": {},
   "source": [
    "## Operadores de Comparación\n",
    "\n",
    "El resultado de estos operadores será de tipo `bool`, o sea, `False` o `True`.\n",
    "\n",
    "- `==` igual a.\n",
    "- `!=` no es igual a.\n",
    "- `>` mayor que.\n",
    "- `<` menor que.\n",
    "- `>=` mayor o igual que.\n",
    "- `<=` menor o igual que."
   ]
  },
  {
   "cell_type": "code",
   "execution_count": 1,
   "id": "7480eccd-a09b-4583-af6a-ac98d281c0c6",
   "metadata": {},
   "outputs": [
    {
     "name": "stdout",
     "output_type": "stream",
     "text": [
      "25 False False\n"
     ]
    }
   ],
   "source": [
    "# Declaramos una variable de tipo `int` llamada \"edad\" con el valor de 25\n",
    "edad = 25\n",
    "# Declaramos a una variable de tipo `bool` con el resultado de la comparación entre la variable\n",
    "# \"edad\" y el número 17.\n",
    "menor_de_edad = edad <= 17\n",
    "# Declaramos a otra variable de tipo `bool` con el resultado de la comparación entre la variable\n",
    "# \"edad\" y el número 65\n",
    "ciudadano_de_oro = edad >= 65\n",
    "\n",
    "print(edad, menor_de_edad, ciudadano_de_oro)"
   ]
  },
  {
   "cell_type": "markdown",
   "id": "1a084faf-cc97-4433-a666-4224a54dd6d1",
   "metadata": {},
   "source": [
    "## Operadores Lógicos\n",
    "\n",
    "Estos nos permiten combinar varias expresiones condicionales.\n",
    "\n",
    "- `and` retorna `True` si ambas condiciones son verdaderas.\n",
    "- `or` retorna `True` si por lo mínimo una de las condiciones son verdaderas.\n",
    "- `not` invierte el resultado de una condición."
   ]
  },
  {
   "cell_type": "code",
   "execution_count": 12,
   "id": "70df53b7-738d-450d-95c0-ed64536b2321",
   "metadata": {},
   "outputs": [
    {
     "name": "stdout",
     "output_type": "stream",
     "text": [
      "True False True\n"
     ]
    }
   ],
   "source": [
    "tiene_trabajo = False\n",
    "ingreso_usd = 2000\n",
    "# Si tiene un ingreso mayor o igual a 700 USD o si tiene trabajo, puede pedir un prestamo\n",
    "puede_pedir_prestamo = ingreso_usd > 1200 or tiene_trabajo\n",
    "\n",
    "años_de_experiencia = 3\n",
    "tiene_titulo = False\n",
    "# Si tiene mas de 2 años de experiencia y tiene titulo, el resultado sera verdadero\n",
    "puede_ser_contratado = años_de_experiencia > 2 and tiene_titulo\n",
    "\n",
    "casado = False\n",
    "# Es soltero si NO esta casado\n",
    "soltero = not casado\n",
    "\n",
    "print(puede_pedir_prestamo, puede_ser_contratado, soltero)\n"
   ]
  }
 ],
 "metadata": {
  "kernelspec": {
   "display_name": "Python 3 (ipykernel)",
   "language": "python",
   "name": "python3"
  },
  "language_info": {
   "codemirror_mode": {
    "name": "ipython",
    "version": 3
   },
   "file_extension": ".py",
   "mimetype": "text/x-python",
   "name": "python",
   "nbconvert_exporter": "python",
   "pygments_lexer": "ipython3",
   "version": "3.11.8"
  }
 },
 "nbformat": 4,
 "nbformat_minor": 5
}
