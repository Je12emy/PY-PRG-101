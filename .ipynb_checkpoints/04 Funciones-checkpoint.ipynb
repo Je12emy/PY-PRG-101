{
 "cells": [
  {
   "cell_type": "markdown",
   "id": "833efba1-0ef3-4db3-be23-cab1cf5f2a00",
   "metadata": {},
   "source": [
    "# Funciones\n",
    "\n",
    "¿Debo siempre repetir el mismo código? Veamos el siguiente caso."
   ]
  },
  {
   "cell_type": "code",
   "execution_count": 2,
   "id": "e6f8bdb8-3a18-459a-8566-88544bee4014",
   "metadata": {},
   "outputs": [
    {
     "name": "stdin",
     "output_type": "stream",
     "text": [
      "Ingresa tu nombre a\n"
     ]
    },
    {
     "name": "stdout",
     "output_type": "stream",
     "text": [
      "Hola a\n"
     ]
    },
    {
     "name": "stdin",
     "output_type": "stream",
     "text": [
      "Ingresa tu nombre v\n"
     ]
    },
    {
     "name": "stdout",
     "output_type": "stream",
     "text": [
      "Hola v\n"
     ]
    },
    {
     "name": "stdin",
     "output_type": "stream",
     "text": [
      "Ingresa tu nombre c\n"
     ]
    },
    {
     "name": "stdout",
     "output_type": "stream",
     "text": [
      "Hola c\n"
     ]
    }
   ],
   "source": [
    "nombre1 = input(\"Ingresa tu nombre\")\n",
    "print(\"Hola \" + nombre1)\n",
    "\n",
    "nombre2 = input(\"Ingresa tu nombre\")\n",
    "print(\"Hola \" + nombre2)\n",
    "\n",
    "nombre3 = input(\"Ingresa tu nombre\")\n",
    "print(\"Hola \" + nombre3)"
   ]
  },
  {
   "cell_type": "markdown",
   "id": "a790beb3-7f48-46bd-a684-71de64203476",
   "metadata": {},
   "source": [
    "Puede que sea un ejemplo pequeño y que no te genere molestia repetir el código, pero en programa más complejo esto puede resultar bastante tedioso. ¿Que pasa si quisieras modificar el saludo que le muestras al usuario? Tendrías que modificar la cadena de texto en cada lugar donde usas este código. Acá es en donde las funciones resultan útiles, primero veamos una plantilla sobre como podemos declarar una.\n",
    "\n",
    "```\n",
    "|             vv Lista de argumentos\n",
    "| def <nombre>():\n",
    "| ^^^ palabra reservada\n",
    "|     # Bloque de codigo o cuerpo de la funcion\n",
    "|\n",
    "```\n",
    "\n",
    "Una función podemos definirla como un \"subprograma\" dentro de nuestro programa, a este subprograma podemos ejecutarlo o \"invocarlo\" cuantas veces lo deseemos. Veamos un ejemplo."
   ]
  },
  {
   "cell_type": "code",
   "execution_count": 3,
   "id": "3af08660-0454-4934-aacf-c50d8cc4cf03",
   "metadata": {},
   "outputs": [
    {
     "name": "stdin",
     "output_type": "stream",
     "text": [
      "Ingresa tu nombre jeremy\n"
     ]
    },
    {
     "name": "stdout",
     "output_type": "stream",
     "text": [
      "Hola jeremy\n"
     ]
    }
   ],
   "source": [
    "# Declaramos a un función llamada \"salidar\"\n",
    "def saludar():\n",
    "    # Bloque de código por ejecutar al invocar a la funcion \"saludar\"\n",
    "    nombre = input(\"Ingresa tu nombre\")\n",
    "    print(\"Hola \" + nombre)\n",
    "\n",
    "saludar()"
   ]
  },
  {
   "cell_type": "markdown",
   "id": "3c70102d-3283-4c70-a4f5-e8a435be7c00",
   "metadata": {},
   "source": [
    "Acá nuestro programa principal invoca a la función \"saludar\" y este ejecutará él bloque de código que le indicamos. Las funciones también pueden retornar un valor, esto sé realizar con la palabra reservada `return`."
   ]
  },
  {
   "cell_type": "code",
   "execution_count": 4,
   "id": "accb3b72-0eb4-496e-817e-ff42d9611450",
   "metadata": {},
   "outputs": [
    {
     "name": "stdout",
     "output_type": "stream",
     "text": [
      "La suma es: 2\n"
     ]
    }
   ],
   "source": [
    "# Declara una función que returna a la variable \"resultado\"\n",
    "def suma():\n",
    "    resultado = 1 + 1\n",
    "    return resultado\n",
    "# Invoca a la funcion \"suma\" y guarda el valor que haya returnado en la variable \"numero\"\n",
    "numero = suma()\n",
    "print(\"La suma es: \" + str(numero))"
   ]
  },
  {
   "cell_type": "markdown",
   "id": "3888b76b-842b-4975-8b9c-9c92ad51a516",
   "metadata": {},
   "source": [
    "Esta vía de comunicación puede darse entre ambos lados, podemos pasarle a una función un valor con el cual esta puede trabajar. Esto es conocido como un \"argumento\"."
   ]
  },
  {
   "cell_type": "code",
   "execution_count": 6,
   "id": "a8aeba34-2c7d-4135-9bd1-184cf9a2a637",
   "metadata": {},
   "outputs": [
    {
     "name": "stdout",
     "output_type": "stream",
     "text": [
      "La suma es: 2\n"
     ]
    }
   ],
   "source": [
    "# Declara una función que recibe a dos argumentos \"a\" y \"b\" returna a la variable \"resultado\"\n",
    "def suma(a, b):\n",
    "    resultado = a + b\n",
    "    return resultado\n",
    "# Invoca a la funcion \"suma\", pasandole a los argumentos 1 y 1. Guarda el valor que haya returnado en la variable \"numero\"\n",
    "primer_numero = 1\n",
    "numero = suma(primer_numero, 1)\n",
    "print(\"La suma es: \" + str(numero))"
   ]
  },
  {
   "cell_type": "markdown",
   "id": "f26d9188-5e6d-48d3-8b67-cab7db6c0923",
   "metadata": {},
   "source": [
    "Toma en cuenta el orden de los argumentos al momento de invocar a la función, el orden lo defines al momento de declarar la función entre los paréntesis \"`()`\". ¿Recuerdas las funciones `print` e `input`? Estas también son funciones, en caso de `print`, recibe una cadena de texto como argumento y no retorna nada. En el caso de `input`, recibe como argumento el mensaje por mostrarle al usuario y retorna una cadena de texto que ingreso el usuario."
   ]
  }
 ],
 "metadata": {
  "kernelspec": {
   "display_name": "Python 3 (ipykernel)",
   "language": "python",
   "name": "python3"
  },
  "language_info": {
   "codemirror_mode": {
    "name": "ipython",
    "version": 3
   },
   "file_extension": ".py",
   "mimetype": "text/x-python",
   "name": "python",
   "nbconvert_exporter": "python",
   "pygments_lexer": "ipython3",
   "version": "3.11.8"
  }
 },
 "nbformat": 4,
 "nbformat_minor": 5
}
