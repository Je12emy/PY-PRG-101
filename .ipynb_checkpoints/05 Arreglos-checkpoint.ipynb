{
 "cells": [
  {
   "cell_type": "markdown",
   "id": "0ccd8aa3-da56-478a-ae49-3cf15faeafcd",
   "metadata": {},
   "source": [
    "# Arreglos o Colección\n",
    "\n",
    "Hasta el momento hemos trabajado con datos individuales, pero la realidad es que podemos agrupar datos de un mismo tipo. Esto es un arreglo.\n",
    "\n",
    "```\n",
    " |\n",
    " |            vvvvvvvvvvvvv---- Items del arreglo\n",
    "1| numeros = [1, 2, 3, 4, 5]\n",
    " | ^^^^^^--- variable\n",
    " |\n",
    "```\n",
    "\n"
   ]
  },
  {
   "cell_type": "code",
   "execution_count": 4,
   "id": "d7d3ae7d-8ffb-4b72-b650-43a25c55d67b",
   "metadata": {},
   "outputs": [
    {
     "name": "stdout",
     "output_type": "stream",
     "text": [
      "1\n",
      "[1, 2, 3, 4, 5]\n"
     ]
    }
   ],
   "source": [
    "numeros = [1,2,3,4,5]\n",
    "print(numeros[0])\n",
    "print(numeros)"
   ]
  },
  {
   "cell_type": "code",
   "execution_count": 6,
   "id": "cee6d2fa-1db3-4a27-bb12-8db9ce99e5cd",
   "metadata": {},
   "outputs": [
    {
     "name": "stdout",
     "output_type": "stream",
     "text": [
      "[1, 2, 3, 4, 5]\n",
      "[1, 10, 3, 4, 5]\n"
     ]
    }
   ],
   "source": [
    "numeros = [1,2,3,4,5]\n",
    "print(numeros)\n",
    "numeros[1] = 10\n",
    "print(numeros)"
   ]
  },
  {
   "cell_type": "code",
   "execution_count": 12,
   "id": "35badec0-1129-4efd-83b3-7f36243890b6",
   "metadata": {},
   "outputs": [
    {
     "name": "stdout",
     "output_type": "stream",
     "text": [
      "2\n",
      "4\n",
      "6\n",
      "8\n",
      "10\n"
     ]
    }
   ],
   "source": [
    "numeros=[1,2,3,4,5] # len(numeros) = 5\n",
    "i = 0\n",
    "# i < 5\n",
    "while(i < len(numeros)):\n",
    "    print(numeros[i] * 2)\n",
    "    i = i + 1"
   ]
  },
  {
   "cell_type": "code",
   "execution_count": 14,
   "id": "50a91621-1566-4d08-b7a0-4e0de97aab59",
   "metadata": {},
   "outputs": [
    {
     "name": "stdout",
     "output_type": "stream",
     "text": [
      "2\n",
      "4\n",
      "6\n",
      "8\n",
      "10\n"
     ]
    }
   ],
   "source": [
    "numeros = [1,2,3,4,5]\n",
    "for i in numeros:\n",
    "    print(i * 2)"
   ]
  },
  {
   "cell_type": "code",
   "execution_count": 20,
   "id": "24df00d8-52ce-408e-840f-358a349f39de",
   "metadata": {},
   "outputs": [
    {
     "name": "stdin",
     "output_type": "stream",
     "text": [
      "Cuantos números quieres guardar?:  3\n",
      "Ingresa un número:  1\n",
      "Ingresa un número:  2\n",
      "Ingresa un número:  3\n"
     ]
    },
    {
     "name": "stdout",
     "output_type": "stream",
     "text": [
      "[1, 2, 3]\n"
     ]
    }
   ],
   "source": [
    "numeros = []\n",
    "size = int(input(\"Cuantos números quieres guardar?: \"))\n",
    "i = 0\n",
    "while i < size:\n",
    "    numero = int(input(\"Ingresa un número: \"))\n",
    "    # append o \"apendar\" me permite agregar un elemento a una lista.\n",
    "    numeros.append(numero)\n",
    "    i = i + 1\n",
    "print(numeros)"
   ]
  },
  {
   "cell_type": "code",
   "execution_count": 21,
   "id": "68ab519f-e154-46ba-b150-859ea3498991",
   "metadata": {},
   "outputs": [
    {
     "name": "stdout",
     "output_type": "stream",
     "text": [
      "[1, 2, 4, 5, 6]\n",
      "[2, 4, 5, 6]\n"
     ]
    }
   ],
   "source": [
    "numeros = [1,2,4,5,6]\n",
    "print(numeros)\n",
    "numeros.pop(0)\n",
    "print(numeros)"
   ]
  }
 ],
 "metadata": {
  "kernelspec": {
   "display_name": "Python 3 (ipykernel)",
   "language": "python",
   "name": "python3"
  },
  "language_info": {
   "codemirror_mode": {
    "name": "ipython",
    "version": 3
   },
   "file_extension": ".py",
   "mimetype": "text/x-python",
   "name": "python",
   "nbconvert_exporter": "python",
   "pygments_lexer": "ipython3",
   "version": "3.11.8"
  }
 },
 "nbformat": 4,
 "nbformat_minor": 5
}
