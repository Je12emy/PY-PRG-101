{
 "cells": [
  {
   "cell_type": "markdown",
   "id": "b3bdd67e-1b3a-4e64-a938-77e584167044",
   "metadata": {},
   "source": [
    "# Estructuras de Control\n",
    "\n",
    "Nos permiten declarar \"ramas\" divergentes de código de tal manera que solo una rama de código será ejecutada si se cumple algún condicional. \n",
    "\n",
    "Hasta el momento no hemos interactuado mucho el concepto de palabras clave. Una palabra clave es un identificador para algún tipo de instrucción, significa que no podemos declarar una variable con el mismo nombre de una palabra clave.\n",
    "\n",
    "## Condicionales\n",
    "\n",
    "Como su nombre lo indica, nos permite declarar si una de nuestras ramas de código deberían de ser ejecutadas.\n",
    "\n",
    "![Ramas](https://i.pinimg.com/originals/2c/c1/99/2cc19954eeafdfce4ddbf8c55c33c3b5.jpg)\n",
    "\n",
    "Para declarar un condicional se sigue la siguiente plantilla.\n",
    "\n",
    "```\n",
    "|                v-- Dos puntos: \":\", esto es obligatorio para iniciar un nuevo bloque de código\n",
    "|1   if condición:\n",
    "|    ^^--- palabra reservada \"if\"\n",
    "|2       # Bloque de código que se ejecuta si el condicional es verdadero       \n",
    "```\n",
    "\n",
    "Nota que después de los dos puntos o \":\" identamos nuestro código. Esto lo puedes hacer presionando la tecla \"Tab\" que insertara 4 espacios o presionando la tecla espacio. También cabe a mencionar que puedes declarar condicionales dentro de condicionales, lo cual significa que deberás indentar más tu código por cada uno.\n",
    "\n",
    "```\n",
    "|\n",
    "|    if condicion:\n",
    "|    ^^^^^^^^^^^^ primer condicional\n",
    "|        if otra_condicion:\n",
    "|        ^^^^^^^^^^^^^^^^^^ segundo condicional\n",
    "|            if una_condicion_mas:\n",
    "|            ^^^^^^^^^^^^^^^^^^^^^ tercer condicional\n",
    "|\n",
    "```\n",
    "\n",
    "### Bloques de Código\n",
    "\n",
    "Antes de empezar a estudiar las condiciones, hablemos de bloques  de código. Python es un lenguaje que usa la edentación o alineación de código para identificar a un bloque de código."
   ]
  },
  {
   "cell_type": "code",
   "execution_count": 2,
   "id": "fd6632b6-50fe-4ee9-a183-2e1f88a6cc3a",
   "metadata": {},
   "outputs": [
    {
     "name": "stdout",
     "output_type": "stream",
     "text": [
      "Eres mayor de edad\n"
     ]
    }
   ],
   "source": [
    "edad = 24\n",
    "if edad > 17:\n",
    "    print(\"Eres mayor de edad\")"
   ]
  },
  {
   "cell_type": "markdown",
   "id": "4d3c64e1-3cd0-4c2a-a191-44416c60fea5",
   "metadata": {},
   "source": [
    "Si fuéramos a leer este código con una oración podríamos interpretarlo de la siguiente manera.\n",
    "\n",
    "> Si edad es mayor a 17, entonces [acción a realizar].\n",
    "\n",
    "Puede que notes que hace falta algo más, ¿qué pasa si no se cumple el condicional? Allí es cuando el `else` entra en juego. El `else` acompaña a un condicional para declarar un bloque de código que se ejecutara si es que no se cumple el primer condicional. Veámoslo en acción usando el código anterior."
   ]
  },
  {
   "cell_type": "code",
   "execution_count": null,
   "id": "b791a336-8e57-42bd-8cee-d7b8524135e4",
   "metadata": {},
   "outputs": [],
   "source": [
    "edad = 24\n",
    "if edad > 17:\n",
    "    print(\"Eres mayor de edad\")\n",
    "else:\n",
    "    print(\"Eres menor de edad\")"
   ]
  },
  {
   "cell_type": "markdown",
   "id": "c3f4afec-e237-4d4d-848b-40d20356c231",
   "metadata": {},
   "source": [
    "Cabe a destacar que el `else` siempre debe de contar con el mismo nivel de indentación del `if` al que acompaña.\n",
    "\n",
    "```\n",
    "|\n",
    "| if condicion:\n",
    "|     if segunda_condicion:\n",
    "|         # Algun código\n",
    "|     else:\n",
    "|         # Algun código\n",
    "| else:\n",
    "|     # Algun código\n",
    "|\n",
    "```"
   ]
  },
  {
   "cell_type": "markdown",
   "id": "d1f4abaf-6ae9-4a54-83b0-54716f53cbc4",
   "metadata": {},
   "source": [
    "¿Solo puedo evaluar dos opciones con un condicional?\n",
    "\n",
    "Sí, puedes declarar más bloques condicionales \"anidados\" con la palabra reservada `elif`, una unión entre `else` y `if`.\n",
    "\n",
    "```\n",
    "|\n",
    "| if condicion:\n",
    "|     # Bloque de código\n",
    "| elif condicion:\n",
    "|     # Bloque de código\n",
    "| elif condicion:\n",
    "|     # Bloque de código\n",
    "| else:\n",
    "|     # Algun código\n",
    "|\n",
    "```\n",
    "\n",
    "¡Toma en cuenta que las mismas reglas de edentación que hemos visto hasta el momento siguen aplicando! Si tus bloques `elif` declaran ramas de código para un mismo condicional, entonces deberían estar apropiadamente alineadas con este.\n",
    "\n",
    "Adicionalmente, en estos casos, imagina que el `else` es la rama de código que será ejecutada cuando ninguna otra fue ejecutada"
   ]
  },
  {
   "cell_type": "code",
   "execution_count": 5,
   "id": "30ebb9d0-5250-4237-bcfe-a4c790f53cb5",
   "metadata": {},
   "outputs": [
    {
     "name": "stdout",
     "output_type": "stream",
     "text": [
      "No calificas para este puesto\n"
     ]
    }
   ],
   "source": [
    "años_de_experiencia = 1\n",
    "\n",
    "if años_de_experiencia >= 4:\n",
    "    print(\"¡Estas contratado!\")\n",
    "elif años_de_experiencia > 2:\n",
    "    print(\"Agendemos una entrevista\")\n",
    "else:\n",
    "    print(\"No calificas para este puesto\")"
   ]
  }
 ],
 "metadata": {
  "kernelspec": {
   "display_name": "Python 3 (ipykernel)",
   "language": "python",
   "name": "python3"
  },
  "language_info": {
   "codemirror_mode": {
    "name": "ipython",
    "version": 3
   },
   "file_extension": ".py",
   "mimetype": "text/x-python",
   "name": "python",
   "nbconvert_exporter": "python",
   "pygments_lexer": "ipython3",
   "version": "3.11.8"
  }
 },
 "nbformat": 4,
 "nbformat_minor": 5
}
